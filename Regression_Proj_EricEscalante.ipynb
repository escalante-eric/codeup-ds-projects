{
 "cells": [
  {
   "cell_type": "markdown",
   "metadata": {},
   "source": [
    "# Improving the Zestimate\n",
    "\n",
    "## Project Planning\n",
    "\n",
    "### Goals\n",
    "\n",
    "Your customer is the zillow data science team. state your goals as if you were delivering this to zillow. They have asked for something from you and you are basically communicating in a more concise way, and very clearly, the goals as you understand them and as you have taken and acted upon through your research.\n",
    "\n",
    "### Deliverables\n",
    "1. A report (in the form of a presentation, both verbal and through a slides) that summarizes your findings about the drivers of the Zestimate error. This will come from the analysis you do during the exploration phase of the pipeline. In the report, you will have charts that visually tell the story of what is driving the errors.\n",
    "\n",
    "2. A Jupyter notebook that contains a clearly labeled section and code clearly documented for each the stages below (project planning, data acquisition, data prep, exploration, and modeling). All of the work will take place in your jupyter notebook.\n",
    "\n",
    "### Data Dictionary & Details\n",
    "\n",
    "- bathroomcnt: Number of bathrooms in home including fractional bathrooms\n",
    "- bedroomcnt: Number of bedrooms in home\n",
    "- calculatedfinishedsquarefeet: Calculated total finished living area of the home\n",
    "- fullbathcnt: Number of full bathrooms (sink, shower + bathtub, and toilet) present in home\n",
    "- garagecarcnt: Total number of garages on the lot including an attached garage\n",
    "- roomcnt: Total number of rooms in the principal residence\n",
    "- yearbuilt: The Year the principal residence was built\n",
    "- taxvaluedollarcnt: The total tax assessed value of the parcel\n",
    "- taxamount: The total property tax assessed for that assessment year\n",
    "- parcelid: Unique identifier for parcels (lots)"
   ]
  },
  {
   "cell_type": "markdown",
   "metadata": {},
   "source": [
    "### Prepare your environment\n",
    "\n",
    "Imported libraries I will use throughout the project"
   ]
  },
  {
   "cell_type": "code",
   "execution_count": 4,
   "metadata": {},
   "outputs": [],
   "source": [
    "# Python 3 environment libraries\n",
    "\n",
    "# ignore warnings\n",
    "import warnings\n",
    "warnings.filterwarnings(\"ignore\")\n",
    "\n",
    "# Wrangling\n",
    "import pandas as pd\n",
    "import numpy as np\n",
    "\n",
    "# Exploring\n",
    "import scipy.stats as stats\n",
    "\n",
    "# Visualizing\n",
    "%matplotlib inline\n",
    "import matplotlib.pyplot as plt\n",
    "import seaborn as sns\n",
    "plt.style.use('classic')\n",
    "\n",
    "# Modeling\n",
    "import statsmodels.api as sm\n",
    "\n",
    "from scipy.stats import pearsonr\n",
    "from scipy.stats import iqr\n",
    "\n",
    "from sklearn.model_selection import train_test_split\n",
    "from sklearn.linear_model import LinearRegression\n",
    "from sklearn import preprocessing\n",
    "from sklearn import utils\n",
    "from sklearn.metrics import mean_squared_error, r2_score, mean_absolute_error, median_absolute_error"
   ]
  },
  {
   "cell_type": "markdown",
   "metadata": {},
   "source": [
    "### Data Acquisition\n",
    "\n",
    "Acquire via a .csv file"
   ]
  },
  {
   "cell_type": "code",
   "execution_count": 5,
   "metadata": {},
   "outputs": [],
   "source": [
    "path = './'\n",
    "\n",
    "### Loading Dataset using 'properties_2016.csv'\n",
    "dfproperties_2016 = pd.read_csv(path + 'properties_2016.csv')\n",
    "\n",
    "### Loading Dataset using 'train_2016.csv'\n",
    "dftrain_2016 = pd.read_csv(path + 'train_2016.csv')"
   ]
  },
  {
   "cell_type": "code",
   "execution_count": 6,
   "metadata": {},
   "outputs": [],
   "source": [
    "### Loading Dataset using 'train_2016.csv'\n",
    "dftrain_2016 = pd.read_csv(path + 'train_2016.csv')"
   ]
  },
  {
   "cell_type": "code",
   "execution_count": 7,
   "metadata": {},
   "outputs": [],
   "source": [
    "### Creating data frame a\n",
    "df_a = pd.DataFrame(dfproperties_2016, columns = [\n",
    "        'bathroomcnt',\n",
    "        'bedroomcnt',\n",
    "        'calculatedfinishedsquarefeet',\n",
    "        'fullbathcnt',\n",
    "        'garagecarcnt',\n",
    "        'roomcnt',\n",
    "        'yearbuilt',\n",
    "        'taxvaluedollarcnt',\n",
    "        'taxamount',\n",
    "        'parcelid'])"
   ]
  },
  {
   "cell_type": "code",
   "execution_count": 8,
   "metadata": {},
   "outputs": [],
   "source": [
    "### Creating data frame b\n",
    "df_b = pd.DataFrame(dftrain_2016, columns = ['parcelid', 'logerror'])"
   ]
  },
  {
   "cell_type": "code",
   "execution_count": 9,
   "metadata": {},
   "outputs": [],
   "source": [
    "### Joining the both a and b along the 'parcelid' value\n",
    "df_join = pd.merge(df_a, df_b, how='inner', on='parcelid')"
   ]
  },
  {
   "cell_type": "markdown",
   "metadata": {},
   "source": [
    "### Sumarize Data"
   ]
  },
  {
   "cell_type": "code",
   "execution_count": 10,
   "metadata": {},
   "outputs": [],
   "source": [
    "### Creating a summary with print statements\n",
    "def summarize_df(df):\n",
    "    print(\"\\nRows & Columns:\\n\")\n",
    "    print(df.shape)\n",
    "    print(\"\\nColumn Info:\\n\")\n",
    "    print(df.info())\n",
    "    print(\"\\nFirst 5 rows:\\n\")\n",
    "    print(df.head())\n",
    "    print(\"\\nLast 5 rows:\\n\")\n",
    "    print(df.tail())\n",
    "    print(\"\\nMissing Values:\\n\")\n",
    "    missing_vals = df.columns[df.isnull().any()]\n",
    "    print(df.isnull().sum())\n",
    "    print(\"\\nSummary Stats:\\n\")\n",
    "    print(df.describe())\n",
    "    print(\"\\nColumn IQR:\\n\")\n",
    "    var_names = df.columns.values\n",
    "    for var in var_names:\n",
    "        print(var+\":\")\n",
    "        print(iqr(df[var],axis=0))"
   ]
  },
  {
   "cell_type": "code",
   "execution_count": 11,
   "metadata": {},
   "outputs": [
    {
     "name": "stdout",
     "output_type": "stream",
     "text": [
      "\n",
      "Rows & Columns:\n",
      "\n",
      "(90275, 11)\n",
      "\n",
      "Column Info:\n",
      "\n",
      "<class 'pandas.core.frame.DataFrame'>\n",
      "Int64Index: 90275 entries, 0 to 90274\n",
      "Data columns (total 11 columns):\n",
      "bathroomcnt                     90275 non-null float64\n",
      "bedroomcnt                      90275 non-null float64\n",
      "calculatedfinishedsquarefeet    89614 non-null float64\n",
      "fullbathcnt                     89093 non-null float64\n",
      "garagecarcnt                    29937 non-null float64\n",
      "roomcnt                         90275 non-null float64\n",
      "yearbuilt                       89519 non-null float64\n",
      "taxvaluedollarcnt               90274 non-null float64\n",
      "taxamount                       90269 non-null float64\n",
      "parcelid                        90275 non-null int64\n",
      "logerror                        90275 non-null float64\n",
      "dtypes: float64(10), int64(1)\n",
      "memory usage: 8.3 MB\n",
      "None\n",
      "\n",
      "First 5 rows:\n",
      "\n",
      "   bathroomcnt  bedroomcnt  calculatedfinishedsquarefeet  fullbathcnt  \\\n",
      "0          2.5         3.0                        1264.0          2.0   \n",
      "1          1.0         2.0                         777.0          1.0   \n",
      "2          2.0         3.0                        1101.0          2.0   \n",
      "3          1.5         2.0                        1554.0          1.0   \n",
      "4          2.5         4.0                        2415.0          2.0   \n",
      "\n",
      "   garagecarcnt  roomcnt  yearbuilt  taxvaluedollarcnt  taxamount  parcelid  \\\n",
      "0           2.0      5.0     1986.0           191811.0    2015.06  17073783   \n",
      "1           1.0      4.0     1990.0           239679.0    2581.30  17088994   \n",
      "2           2.0      5.0     1956.0            47853.0     591.64  17100444   \n",
      "3           2.0      5.0     1965.0            62914.0     682.78  17102429   \n",
      "4           2.0      8.0     1984.0           554000.0    5886.92  17109604   \n",
      "\n",
      "   logerror  \n",
      "0    0.0953  \n",
      "1    0.0198  \n",
      "2    0.0060  \n",
      "3   -0.0566  \n",
      "4    0.0573  \n",
      "\n",
      "Last 5 rows:\n",
      "\n",
      "       bathroomcnt  bedroomcnt  calculatedfinishedsquarefeet  fullbathcnt  \\\n",
      "90270          3.0         4.0                        2068.0          3.0   \n",
      "90271          2.0         3.0                        1352.0          2.0   \n",
      "90272          2.0         2.0                         860.0          2.0   \n",
      "90273          2.5         3.0                        2268.0          2.0   \n",
      "90274          2.5         3.0                        1812.0          2.0   \n",
      "\n",
      "       garagecarcnt  roomcnt  yearbuilt  taxvaluedollarcnt  taxamount  \\\n",
      "90270           NaN      0.0     2008.0           596082.0    7335.81   \n",
      "90271           NaN      0.0     1956.0           178408.0    2441.74   \n",
      "90272           NaN      0.0     2011.0           420000.0    5070.41   \n",
      "90273           2.0      0.0     2012.0          1215816.0   12508.30   \n",
      "90274           2.0      0.0     2013.0           471286.0    5470.12   \n",
      "\n",
      "       parcelid  logerror  \n",
      "90270  11876798    0.0276  \n",
      "90271  12808516   -0.1188  \n",
      "90272  12010248    0.0843  \n",
      "90273  14310905   -0.0050  \n",
      "90274  14636609    0.0129  \n",
      "\n",
      "Missing Values:\n",
      "\n",
      "bathroomcnt                         0\n",
      "bedroomcnt                          0\n",
      "calculatedfinishedsquarefeet      661\n",
      "fullbathcnt                      1182\n",
      "garagecarcnt                    60338\n",
      "roomcnt                             0\n",
      "yearbuilt                         756\n",
      "taxvaluedollarcnt                   1\n",
      "taxamount                           6\n",
      "parcelid                            0\n",
      "logerror                            0\n",
      "dtype: int64\n",
      "\n",
      "Summary Stats:\n",
      "\n",
      "        bathroomcnt    bedroomcnt  calculatedfinishedsquarefeet   fullbathcnt  \\\n",
      "count  90275.000000  90275.000000                  89614.000000  89093.000000   \n",
      "mean       2.279474      3.031869                   1773.185987      2.241231   \n",
      "std        1.004271      1.156436                    928.162393      0.963142   \n",
      "min        0.000000      0.000000                      2.000000      1.000000   \n",
      "25%        2.000000      2.000000                   1184.000000      2.000000   \n",
      "50%        2.000000      3.000000                   1540.000000      2.000000   \n",
      "75%        3.000000      4.000000                   2095.000000      3.000000   \n",
      "max       20.000000     16.000000                  22741.000000     20.000000   \n",
      "\n",
      "       garagecarcnt       roomcnt     yearbuilt  taxvaluedollarcnt  \\\n",
      "count  29937.000000  90275.000000  89519.000000       9.027400e+04   \n",
      "mean       1.812005      1.478516   1968.532870       4.576726e+05   \n",
      "std        0.608761      2.819627     23.763475       5.548844e+05   \n",
      "min        0.000000      0.000000   1885.000000       2.200000e+01   \n",
      "25%        2.000000      0.000000   1953.000000       1.990232e+05   \n",
      "50%        2.000000      0.000000   1970.000000       3.428720e+05   \n",
      "75%        2.000000      0.000000   1987.000000       5.405890e+05   \n",
      "max       24.000000     18.000000   2015.000000       2.775000e+07   \n",
      "\n",
      "           taxamount      parcelid      logerror  \n",
      "count   90269.000000  9.027500e+04  90275.000000  \n",
      "mean     5983.975927  1.298466e+07      0.011457  \n",
      "std      6838.876956  2.504510e+06      0.161079  \n",
      "min        49.080000  1.071174e+07     -4.605000  \n",
      "25%      2872.830000  1.155950e+07     -0.025300  \n",
      "50%      4542.750000  1.254734e+07      0.006000  \n",
      "75%      6901.090000  1.422755e+07      0.039200  \n",
      "max    321936.090000  1.629608e+08      4.737000  \n",
      "\n",
      "Column IQR:\n",
      "\n",
      "bathroomcnt:\n",
      "1.0\n",
      "bedroomcnt:\n",
      "2.0\n",
      "calculatedfinishedsquarefeet:\n",
      "nan\n",
      "fullbathcnt:\n",
      "nan\n",
      "garagecarcnt:\n",
      "nan\n",
      "roomcnt:\n",
      "0.0\n",
      "yearbuilt:\n",
      "nan\n",
      "taxvaluedollarcnt:\n",
      "nan\n",
      "taxamount:\n",
      "nan\n",
      "parcelid:\n",
      "2668052.0\n",
      "logerror:\n",
      "0.0645\n"
     ]
    }
   ],
   "source": [
    "summarize_df(df_join)"
   ]
  },
  {
   "cell_type": "markdown",
   "metadata": {},
   "source": [
    "### Initial Thoughts, Ideas, Hypotheses\n",
    "\n",
    "- First thing: find all the NaN values and figure out what to do with them\n",
    "- Replace all the NaN values with the mean to see if that changes the correlation with the logerror\n",
    "\n",
    "### Features\n",
    "- features with too many NaN values to deal with I want to remove them from the model\n",
    "- remove **fullbathcnt**, **garagecnt** and **roomcnt**\n",
    "\n",
    "### Normalization\n",
    "- figure out how to normalize the data and see if that makes a difference in the model\n",
    "\n",
    "### Outliers\n",
    "- I think the outliers in this data set have such a small amount of impace to the overall logerror because there aren't too many of them to make a big impact\n",
    "- remove lots without a structure\n",
    "\n",
    "### Goal\n",
    "- Goal is to see what features have the strongest corelation and remove one of them; the one that has the weakest correlation to the logerror"
   ]
  },
  {
   "cell_type": "markdown",
   "metadata": {},
   "source": [
    "### Data Preparation\n",
    "\n",
    "Goal: leave this section with a dataset that is ready to be analyzed."
   ]
  },
  {
   "cell_type": "code",
   "execution_count": 12,
   "metadata": {},
   "outputs": [],
   "source": [
    "### Create a variable, colnames, that is a list of the column names.\n",
    "variables = pd.DataFrame(df_join.columns, columns=['colnames'])"
   ]
  },
  {
   "cell_type": "code",
   "execution_count": 13,
   "metadata": {},
   "outputs": [],
   "source": [
    "### Replace Null Values\n",
    "df_join = df_join.apply(lambda x: x.fillna(x.mean()),axis=0)"
   ]
  },
  {
   "cell_type": "code",
   "execution_count": 14,
   "metadata": {},
   "outputs": [],
   "source": [
    "### Replace Null Values\n",
    "def replace_null_data(df, column_name, numerical = True):\n",
    "    if numerical == True:\n",
    "        df[column_name] = df[column_name].fillna(df[column_name].mean())\n",
    "    else:\n",
    "        df[column_name] = df[column_name].fillna(df[column_name].mode()[0])\n",
    "    \n",
    "    return df"
   ]
  },
  {
   "cell_type": "code",
   "execution_count": 15,
   "metadata": {},
   "outputs": [],
   "source": [
    "df_join = replace_null_data(df_join,'calculatedfinishedsquarefeet')\n",
    "df_join = replace_null_data(df_join,'taxamount')\n",
    "df_join = replace_null_data(df_join,'taxvaluedollarcnt')\n",
    "df_join = replace_null_data(df_join,'yearbuilt')\n",
    "df_join = replace_null_data(df_join,'logerror')"
   ]
  },
  {
   "cell_type": "code",
   "execution_count": 16,
   "metadata": {},
   "outputs": [
    {
     "data": {
      "text/plain": [
       "array(['bathroomcnt', 'bedroomcnt', 'calculatedfinishedsquarefeet',\n",
       "       'yearbuilt', 'taxvaluedollarcnt', 'taxamount', 'logerror'],\n",
       "      dtype=object)"
      ]
     },
     "execution_count": 16,
     "metadata": {},
     "output_type": "execute_result"
    }
   ],
   "source": [
    "### Drop unnecessary columns\n",
    "columns_to_remove = ['fullbathcnt',\n",
    "                     'garagecarcnt',\n",
    "                     'roomcnt',\n",
    "                     'parcelid']\n",
    "df_fixed = df_join.drop(columns_to_remove, axis=1)\n",
    "\n",
    "### Create a list of the independent variable name\n",
    "df_fixed.columns.values"
   ]
  },
  {
   "cell_type": "raw",
   "metadata": {},
   "source": [
    "df_fixed.sort_values(['logerror'], ascending=True).sample(10)"
   ]
  },
  {
   "cell_type": "code",
   "execution_count": 17,
   "metadata": {},
   "outputs": [
    {
     "data": {
      "text/html": [
       "<div>\n",
       "<style scoped>\n",
       "    .dataframe tbody tr th:only-of-type {\n",
       "        vertical-align: middle;\n",
       "    }\n",
       "\n",
       "    .dataframe tbody tr th {\n",
       "        vertical-align: top;\n",
       "    }\n",
       "\n",
       "    .dataframe thead th {\n",
       "        text-align: right;\n",
       "    }\n",
       "</style>\n",
       "<table border=\"1\" class=\"dataframe\">\n",
       "  <thead>\n",
       "    <tr style=\"text-align: right;\">\n",
       "      <th></th>\n",
       "      <th>bathroomcnt</th>\n",
       "      <th>bedroomcnt</th>\n",
       "      <th>calculatedfinishedsquarefeet</th>\n",
       "      <th>yearbuilt</th>\n",
       "      <th>taxvaluedollarcnt</th>\n",
       "      <th>taxamount</th>\n",
       "      <th>logerror</th>\n",
       "    </tr>\n",
       "  </thead>\n",
       "  <tbody>\n",
       "    <tr>\n",
       "      <th>count</th>\n",
       "      <td>90275.000000</td>\n",
       "      <td>90275.000000</td>\n",
       "      <td>90275.000000</td>\n",
       "      <td>90275.000000</td>\n",
       "      <td>9.027500e+04</td>\n",
       "      <td>90275.000000</td>\n",
       "      <td>90275.000000</td>\n",
       "    </tr>\n",
       "    <tr>\n",
       "      <th>mean</th>\n",
       "      <td>2.279474</td>\n",
       "      <td>3.031869</td>\n",
       "      <td>1773.185987</td>\n",
       "      <td>1968.532870</td>\n",
       "      <td>4.576726e+05</td>\n",
       "      <td>5983.975927</td>\n",
       "      <td>0.011457</td>\n",
       "    </tr>\n",
       "    <tr>\n",
       "      <th>std</th>\n",
       "      <td>1.004271</td>\n",
       "      <td>1.156436</td>\n",
       "      <td>924.758076</td>\n",
       "      <td>23.663762</td>\n",
       "      <td>5.548813e+05</td>\n",
       "      <td>6838.649682</td>\n",
       "      <td>0.161079</td>\n",
       "    </tr>\n",
       "    <tr>\n",
       "      <th>min</th>\n",
       "      <td>0.000000</td>\n",
       "      <td>0.000000</td>\n",
       "      <td>2.000000</td>\n",
       "      <td>1885.000000</td>\n",
       "      <td>2.200000e+01</td>\n",
       "      <td>49.080000</td>\n",
       "      <td>-4.605000</td>\n",
       "    </tr>\n",
       "    <tr>\n",
       "      <th>25%</th>\n",
       "      <td>2.000000</td>\n",
       "      <td>2.000000</td>\n",
       "      <td>1187.000000</td>\n",
       "      <td>1953.000000</td>\n",
       "      <td>1.990235e+05</td>\n",
       "      <td>2872.885000</td>\n",
       "      <td>-0.025300</td>\n",
       "    </tr>\n",
       "    <tr>\n",
       "      <th>50%</th>\n",
       "      <td>2.000000</td>\n",
       "      <td>3.000000</td>\n",
       "      <td>1547.000000</td>\n",
       "      <td>1969.000000</td>\n",
       "      <td>3.428720e+05</td>\n",
       "      <td>4543.020000</td>\n",
       "      <td>0.006000</td>\n",
       "    </tr>\n",
       "    <tr>\n",
       "      <th>75%</th>\n",
       "      <td>3.000000</td>\n",
       "      <td>4.000000</td>\n",
       "      <td>2089.000000</td>\n",
       "      <td>1987.000000</td>\n",
       "      <td>5.405890e+05</td>\n",
       "      <td>6900.600000</td>\n",
       "      <td>0.039200</td>\n",
       "    </tr>\n",
       "    <tr>\n",
       "      <th>max</th>\n",
       "      <td>20.000000</td>\n",
       "      <td>16.000000</td>\n",
       "      <td>22741.000000</td>\n",
       "      <td>2015.000000</td>\n",
       "      <td>2.775000e+07</td>\n",
       "      <td>321936.090000</td>\n",
       "      <td>4.737000</td>\n",
       "    </tr>\n",
       "  </tbody>\n",
       "</table>\n",
       "</div>"
      ],
      "text/plain": [
       "        bathroomcnt    bedroomcnt  calculatedfinishedsquarefeet     yearbuilt  \\\n",
       "count  90275.000000  90275.000000                  90275.000000  90275.000000   \n",
       "mean       2.279474      3.031869                   1773.185987   1968.532870   \n",
       "std        1.004271      1.156436                    924.758076     23.663762   \n",
       "min        0.000000      0.000000                      2.000000   1885.000000   \n",
       "25%        2.000000      2.000000                   1187.000000   1953.000000   \n",
       "50%        2.000000      3.000000                   1547.000000   1969.000000   \n",
       "75%        3.000000      4.000000                   2089.000000   1987.000000   \n",
       "max       20.000000     16.000000                  22741.000000   2015.000000   \n",
       "\n",
       "       taxvaluedollarcnt      taxamount      logerror  \n",
       "count       9.027500e+04   90275.000000  90275.000000  \n",
       "mean        4.576726e+05    5983.975927      0.011457  \n",
       "std         5.548813e+05    6838.649682      0.161079  \n",
       "min         2.200000e+01      49.080000     -4.605000  \n",
       "25%         1.990235e+05    2872.885000     -0.025300  \n",
       "50%         3.428720e+05    4543.020000      0.006000  \n",
       "75%         5.405890e+05    6900.600000      0.039200  \n",
       "max         2.775000e+07  321936.090000      4.737000  "
      ]
     },
     "execution_count": 17,
     "metadata": {},
     "output_type": "execute_result"
    }
   ],
   "source": [
    "df_fixed.describe()"
   ]
  },
  {
   "cell_type": "code",
   "execution_count": 18,
   "metadata": {},
   "outputs": [
    {
     "data": {
      "text/plain": [
       "array(['bathroomcnt', 'bedroomcnt', 'calculatedfinishedsquarefeet',\n",
       "       'yearbuilt', 'taxvaluedollarcnt', 'taxamount', 'logerror'],\n",
       "      dtype=object)"
      ]
     },
     "execution_count": 18,
     "metadata": {},
     "output_type": "execute_result"
    }
   ],
   "source": [
    "### Create a list of the independent variable names (aka attributes) and assign it to x_vars\n",
    "x_vars = df_fixed.columns.values\n",
    "x_vars"
   ]
  },
  {
   "cell_type": "code",
   "execution_count": 19,
   "metadata": {},
   "outputs": [],
   "source": [
    "### Clearly identify your dependent (target) variable\n",
    "y = df_fixed.columns.values[5]"
   ]
  },
  {
   "cell_type": "code",
   "execution_count": 20,
   "metadata": {},
   "outputs": [],
   "source": [
    "### Create a list of the independent variable names (aka attributes) and assign it to x_vars\n",
    "x_vars = df_fixed.columns.values"
   ]
  },
  {
   "cell_type": "code",
   "execution_count": 21,
   "metadata": {},
   "outputs": [],
   "source": [
    "### Clearly identify your dependent (target) variable\n",
    "y = df_fixed.columns.values[3]"
   ]
  },
  {
   "cell_type": "code",
   "execution_count": 22,
   "metadata": {},
   "outputs": [
    {
     "name": "stdout",
     "output_type": "stream",
     "text": [
      "\n",
      "Rows & Columns:\n",
      "\n",
      "(90275, 7)\n",
      "\n",
      "Column Info:\n",
      "\n",
      "<class 'pandas.core.frame.DataFrame'>\n",
      "Int64Index: 90275 entries, 0 to 90274\n",
      "Data columns (total 7 columns):\n",
      "bathroomcnt                     90275 non-null float64\n",
      "bedroomcnt                      90275 non-null float64\n",
      "calculatedfinishedsquarefeet    90275 non-null float64\n",
      "yearbuilt                       90275 non-null float64\n",
      "taxvaluedollarcnt               90275 non-null float64\n",
      "taxamount                       90275 non-null float64\n",
      "logerror                        90275 non-null float64\n",
      "dtypes: float64(7)\n",
      "memory usage: 5.5 MB\n",
      "None\n",
      "\n",
      "First 5 rows:\n",
      "\n",
      "   bathroomcnt  bedroomcnt  calculatedfinishedsquarefeet  yearbuilt  \\\n",
      "0          2.5         3.0                        1264.0     1986.0   \n",
      "1          1.0         2.0                         777.0     1990.0   \n",
      "2          2.0         3.0                        1101.0     1956.0   \n",
      "3          1.5         2.0                        1554.0     1965.0   \n",
      "4          2.5         4.0                        2415.0     1984.0   \n",
      "\n",
      "   taxvaluedollarcnt  taxamount  logerror  \n",
      "0           191811.0    2015.06    0.0953  \n",
      "1           239679.0    2581.30    0.0198  \n",
      "2            47853.0     591.64    0.0060  \n",
      "3            62914.0     682.78   -0.0566  \n",
      "4           554000.0    5886.92    0.0573  \n",
      "\n",
      "Last 5 rows:\n",
      "\n",
      "       bathroomcnt  bedroomcnt  calculatedfinishedsquarefeet  yearbuilt  \\\n",
      "90270          3.0         4.0                        2068.0     2008.0   \n",
      "90271          2.0         3.0                        1352.0     1956.0   \n",
      "90272          2.0         2.0                         860.0     2011.0   \n",
      "90273          2.5         3.0                        2268.0     2012.0   \n",
      "90274          2.5         3.0                        1812.0     2013.0   \n",
      "\n",
      "       taxvaluedollarcnt  taxamount  logerror  \n",
      "90270           596082.0    7335.81    0.0276  \n",
      "90271           178408.0    2441.74   -0.1188  \n",
      "90272           420000.0    5070.41    0.0843  \n",
      "90273          1215816.0   12508.30   -0.0050  \n",
      "90274           471286.0    5470.12    0.0129  \n",
      "\n",
      "Missing Values:\n",
      "\n",
      "bathroomcnt                     0\n",
      "bedroomcnt                      0\n",
      "calculatedfinishedsquarefeet    0\n",
      "yearbuilt                       0\n",
      "taxvaluedollarcnt               0\n",
      "taxamount                       0\n",
      "logerror                        0\n",
      "dtype: int64\n",
      "\n",
      "Summary Stats:\n",
      "\n",
      "        bathroomcnt    bedroomcnt  calculatedfinishedsquarefeet     yearbuilt  \\\n",
      "count  90275.000000  90275.000000                  90275.000000  90275.000000   \n",
      "mean       2.279474      3.031869                   1773.185987   1968.532870   \n",
      "std        1.004271      1.156436                    924.758076     23.663762   \n",
      "min        0.000000      0.000000                      2.000000   1885.000000   \n",
      "25%        2.000000      2.000000                   1187.000000   1953.000000   \n",
      "50%        2.000000      3.000000                   1547.000000   1969.000000   \n",
      "75%        3.000000      4.000000                   2089.000000   1987.000000   \n",
      "max       20.000000     16.000000                  22741.000000   2015.000000   \n",
      "\n",
      "       taxvaluedollarcnt      taxamount      logerror  \n",
      "count       9.027500e+04   90275.000000  90275.000000  \n",
      "mean        4.576726e+05    5983.975927      0.011457  \n",
      "std         5.548813e+05    6838.649682      0.161079  \n",
      "min         2.200000e+01      49.080000     -4.605000  \n",
      "25%         1.990235e+05    2872.885000     -0.025300  \n",
      "50%         3.428720e+05    4543.020000      0.006000  \n",
      "75%         5.405890e+05    6900.600000      0.039200  \n",
      "max         2.775000e+07  321936.090000      4.737000  \n",
      "\n",
      "Column IQR:\n",
      "\n",
      "bathroomcnt:\n",
      "1.0\n",
      "bedroomcnt:\n",
      "2.0\n",
      "calculatedfinishedsquarefeet:\n",
      "902.0\n",
      "yearbuilt:\n",
      "34.0\n",
      "taxvaluedollarcnt:\n",
      "341565.5\n",
      "taxamount:\n",
      "4027.715\n",
      "logerror:\n",
      "0.0645\n"
     ]
    }
   ],
   "source": [
    "summarize_df(df_fixed)"
   ]
  },
  {
   "cell_type": "code",
   "execution_count": 23,
   "metadata": {},
   "outputs": [
    {
     "data": {
      "image/png": "[encoded data removed]",
      "text/plain": [
       "<Figure size 1080x1080 with 6 Axes>"
      ]
     },
     "metadata": {
      "needs_background": "light"
     },
     "output_type": "display_data"
    }
   ],
   "source": [
    "### View the distribution of the numeric variables with histograms\n",
    "plt.figure(figsize=(15,15))\n",
    "plt.suptitle('Histogram to view distribution of the numeric variables')\n",
    "\n",
    "for i, col in enumerate(['calculatedfinishedsquarefeet', \n",
    "                         'taxvaluedollarcnt',\n",
    "                         'taxamount',\n",
    "                         'bathroomcnt',\n",
    "                         'bedroomcnt',\n",
    "                         'yearbuilt']):  \n",
    "    plot_number = i + 1 # i starts at 0, but plot nos should start at 1\n",
    "    series = df_fixed[col]  \n",
    "    plt.subplot(4, 2, plot_number)\n",
    "    plt.title(col)\n",
    "    series.hist(bins=10, density=False, cumulative=False, log=False)"
   ]
  },
  {
   "cell_type": "code",
   "execution_count": 24,
   "metadata": {},
   "outputs": [
    {
     "data": {
      "image/png": "[encoded data removed]",
      "text/plain": [
       "<Figure size 1080x1080 with 6 Axes>"
      ]
     },
     "metadata": {
      "needs_background": "light"
     },
     "output_type": "display_data"
    }
   ],
   "source": [
    "### View the distribution of the numeric variables with boxplots to visually see the outliers\n",
    "plt.figure(figsize=(15,15))\n",
    "plt.suptitle('Histogram to view distribution of the numeric variables')\n",
    "\n",
    "for i, col in enumerate(['calculatedfinishedsquarefeet', \n",
    "                         'taxvaluedollarcnt',\n",
    "                         'taxamount',\n",
    "                         'bathroomcnt',\n",
    "                         'bedroomcnt',\n",
    "                         'yearbuilt']):  \n",
    "    plot_number = i + 1 # i starts at 0, but plot nos should start at 1\n",
    "    series = df_fixed[col]  \n",
    "    plt.subplot(4, 2, plot_number)\n",
    "    plt.title(col)\n",
    "    series.plot.box()"
   ]
  },
  {
   "cell_type": "markdown",
   "metadata": {},
   "source": [
    "### Data Exploration\n",
    "\n",
    "Goal is to address each of the questions you posed in your planning & brainstorming through visual or statistical analysis."
   ]
  },
  {
   "cell_type": "code",
   "execution_count": 114,
   "metadata": {},
   "outputs": [],
   "source": [
    "### Split data into training and test datasets\n",
    "X = df_fixed.drop(['logerror'], axis=1)\n",
    "y = df_fixed[['logerror']]\n",
    "\n",
    "X_train, X_test, y_train, y_test = train_test_split(X, y, test_size=0.2, random_state=123) \n",
    "\n",
    "train = pd.concat([X_train, y_train], axis=1)\n",
    "test = pd.concat([X_test, y_test], axis=1)"
   ]
  },
  {
   "cell_type": "code",
   "execution_count": 115,
   "metadata": {},
   "outputs": [
    {
     "name": "stdout",
     "output_type": "stream",
     "text": [
      "Train columns:  ['bathroomcnt', 'bedroomcnt', 'calculatedfinishedsquarefeet', 'yearbuilt', 'taxvaluedollarcnt', 'taxamount', 'logerror']\n",
      "Train dimensions (rows, columns): (72220, 7)\n"
     ]
    }
   ],
   "source": [
    "train = pd.concat([X_train, y_train], axis=1)\n",
    "print(\"Train columns:  %s\" % list(train.columns))\n",
    "print(\"Train dimensions (rows, columns):\", train.shape)"
   ]
  },
  {
   "cell_type": "code",
   "execution_count": 116,
   "metadata": {},
   "outputs": [
    {
     "name": "stdout",
     "output_type": "stream",
     "text": [
      "Test columns:  ['bathroomcnt', 'bedroomcnt', 'calculatedfinishedsquarefeet', 'yearbuilt', 'taxvaluedollarcnt', 'taxamount', 'logerror']\n",
      "Test dimensions (rows, columns): (18055, 7)\n"
     ]
    }
   ],
   "source": [
    "print(\"Test columns:  %s\" % list(test.columns))\n",
    "print(\"Test dimensions (rows, columns):\", test.shape)"
   ]
  },
  {
   "cell_type": "code",
   "execution_count": 117,
   "metadata": {},
   "outputs": [
    {
     "name": "stderr",
     "output_type": "stream",
     "text": [
      "/usr/local/anaconda3/lib/python3.7/site-packages/seaborn/axisgrid.py:1847: UserWarning: JointGrid annotation is deprecated and will be removed in a future release.\n",
      "  warnings.warn(UserWarning(msg))\n",
      "/usr/local/anaconda3/lib/python3.7/site-packages/seaborn/axisgrid.py:1847: UserWarning: JointGrid annotation is deprecated and will be removed in a future release.\n",
      "  warnings.warn(UserWarning(msg))\n",
      "/usr/local/anaconda3/lib/python3.7/site-packages/seaborn/axisgrid.py:1847: UserWarning: JointGrid annotation is deprecated and will be removed in a future release.\n",
      "  warnings.warn(UserWarning(msg))\n",
      "/usr/local/anaconda3/lib/python3.7/site-packages/seaborn/axisgrid.py:1847: UserWarning: JointGrid annotation is deprecated and will be removed in a future release.\n",
      "  warnings.warn(UserWarning(msg))\n",
      "/usr/local/anaconda3/lib/python3.7/site-packages/seaborn/axisgrid.py:1847: UserWarning: JointGrid annotation is deprecated and will be removed in a future release.\n",
      "  warnings.warn(UserWarning(msg))\n"
     ]
    },
    {
     "data": {
      "text/plain": [
       "<Figure size 720x576 with 0 Axes>"
      ]
     },
     "metadata": {},
     "output_type": "display_data"
    },
    {
     "data": {
      "image/png": "[encoded data removed]",
      "text/plain": [
       "<Figure size 360x360 with 3 Axes>"
      ]
     },
     "metadata": {
      "needs_background": "light"
     },
     "output_type": "display_data"
    },
    {
     "data": {
      "image/png": "[encoded data removed]",
      "text/plain": [
       "<Figure size 360x360 with 3 Axes>"
      ]
     },
     "metadata": {
      "needs_background": "light"
     },
     "output_type": "display_data"
    },
    {
     "data": {
      "image/png": "[encoded data removed]",
      "text/plain": [
       "<Figure size 360x360 with 3 Axes>"
      ]
     },
     "metadata": {
      "needs_background": "light"
     },
     "output_type": "display_data"
    },
    {
     "data": {
      "image/png": "[encoded data removed]",
      "text/plain": [
       "<Figure size 360x360 with 3 Axes>"
      ]
     },
     "metadata": {
      "needs_background": "light"
     },
     "output_type": "display_data"
    },
    {
     "data": {
      "image/png": "[encoded data removed]",
      "text/plain": [
       "<Figure size 360x360 with 3 Axes>"
      ]
     },
     "metadata": {
      "needs_background": "light"
     },
     "output_type": "display_data"
    }
   ],
   "source": [
    "### Create a jointplot for each independent variable with the dependent variable.\n",
    "plt.figure(figsize=(10, 8))\n",
    "\n",
    "for i in range(0,5):\n",
    "    j = sns.jointplot(x_vars[i], 'logerror', data=train, kind='reg', height=5);\n",
    "    j.annotate(stats.pearsonr)"
   ]
  },
  {
   "cell_type": "code",
   "execution_count": null,
   "metadata": {},
   "outputs": [
    {
     "name": "stdout",
     "output_type": "stream",
     "text": [
      "X & y train rows ARE equal\n",
      "X & y test rows ARE equal\n",
      "Number of columns in train & test ARE equal\n",
      "Train Split: 0.80\n",
      "Test Split: 0.20\n"
     ]
    }
   ],
   "source": [
    "if X_train.shape[0] == y_train.shape[0]:\n",
    "    print(\"X & y train rows ARE equal\")\n",
    "else:\n",
    "    print(\"X & y train rows ARE NOT equal\")\n",
    "\n",
    "\n",
    "if X_test.shape[0] == y_test.shape[0]:\n",
    "    print(\"X & y test rows ARE equal\")\n",
    "else:\n",
    "    print(\"X & y test rows ARE NOT equal\")\n",
    "\n",
    "if train.shape[1] == test.shape[1]:\n",
    "    print(\"Number of columns in train & test ARE equal\")\n",
    "else:\n",
    "    print(\"Number of columns in train & test ARE NOT equal\")\n",
    " \n",
    "train_split = train.shape[0] / (train.shape[0] + test.shape[0])\n",
    "test_split = test.shape[0] / (train.shape[0] + test.shape[0])\n",
    "\n",
    "print(\"Train Split: %.2f\" % train_split)\n",
    "print(\"Test Split: %.2f\" % test_split)"
   ]
  },
  {
   "cell_type": "code",
   "execution_count": null,
   "metadata": {},
   "outputs": [],
   "source": [
    "### Create a feature plot using seaborn's PairGrid() of the interaction between each variable (dependent + independent).\n",
    "g = sns.PairGrid(train)\n",
    "g.map_diag(plt.hist)\n",
    "g.map_offdiag(plt.scatter);\n"
   ]
  },
  {
   "cell_type": "code",
   "execution_count": null,
   "metadata": {},
   "outputs": [],
   "source": [
    "### Create a heatmap of the correlation between each variable pair.\n",
    "plt.figure(figsize=(10,6))\n",
    "sns.heatmap(train.corr(), cmap='Blues', annot=True)\n",
    "plt.xticks(rotation=60)"
   ]
  },
  {
   "cell_type": "code",
   "execution_count": null,
   "metadata": {},
   "outputs": [],
   "source": [
    "### Is the logerror significantly different for homes with 3 bedrooms vs those with 5 or more bedrooms?\n",
    "three_br = train[train.bedroomcnt == 3]\n",
    "five_br = train[train.bedroomcnt >= 3]\n",
    "\n",
    "from scipy.stats import ttest_ind\n",
    "ttest_ind(three_br.logerror, five_br.logerror)"
   ]
  },
  {
   "cell_type": "code",
   "execution_count": null,
   "metadata": {},
   "outputs": [],
   "source": [
    "### Do the same for another 2 samples you are interested in comparing (e.g. those with 1 bath vs. x baths)\n",
    "one_ba = train[train.bathroomcnt <= 2]\n",
    "four_ba = train[train.bathroomcnt >= 3]\n",
    "\n",
    "from scipy.stats import ttest_ind\n",
    "ttest_ind(one_ba.logerror, four_ba.logerror)"
   ]
  },
  {
   "cell_type": "markdown",
   "metadata": {},
   "source": [
    "### Findings\n",
    "\n",
    "***Strong Correlations***\n",
    "- 'taxvaluedollarcnt' and 'taxamount' have the strongest correlation so I will remove taxamount when I process my linear modeling\n",
    "- 'calculatedfinishedsquarefeet' and 'bathroomcnt' have the second strongest correlation so I will remove bathroom count when I process my linear model\n",
    "- **Yearbuilt** looks like the most interesting feature bumped up with logerror"
   ]
  },
  {
   "cell_type": "markdown",
   "metadata": {},
   "source": [
    "### Data Modeling"
   ]
  },
  {
   "cell_type": "code",
   "execution_count": null,
   "metadata": {},
   "outputs": [],
   "source": [
    "### Create a dictionary that describe the r and p values\n",
    "column_names = X_train.columns\n",
    "r_and_p_values = [pearsonr(X_train[col], y_train.logerror) for col in column_names]\n",
    "\n",
    "logerror_corr_dict = dict(zip(column_names, r_and_p_values))\n",
    "logerror_corr_dict"
   ]
  },
  {
   "cell_type": "code",
   "execution_count": null,
   "metadata": {},
   "outputs": [],
   "source": [
    "### Normalize Data of selected cells\n",
    "def norm_df_column(df, column_name):\n",
    "    df[column_name] = (df[column_name] - df[column_name].mean())/df[column_name].std()\n",
    "    return df"
   ]
  },
  {
   "cell_type": "code",
   "execution_count": null,
   "metadata": {},
   "outputs": [],
   "source": [
    "X_train = norm_df_column(X_train, 'price_per_sqf')\n",
    "X_test = norm_df_column(X_train, 'price_per_sqf')"
   ]
  },
  {
   "cell_type": "code",
   "execution_count": null,
   "metadata": {},
   "outputs": [],
   "source": [
    "X_train['price_per_sqf'] = (X_train.taxvaluedollarcnt / X_train.calculatedfinishedsquarefeet)\n",
    "X_test['price_per_sqf'] = (X_test.taxvaluedollarcnt / X_test.calculatedfinishedsquarefeet)\n"
   ]
  },
  {
   "cell_type": "code",
   "execution_count": null,
   "metadata": {},
   "outputs": [],
   "source": [
    "X_train = norm_df_column(X_train, 'calculatedfinishedsquarefeet')\n",
    "X_train = norm_df_column(X_train, 'taxvaluedollarcnt')\n",
    "X_train = norm_df_column(X_train, 'taxamount')\n",
    "\n",
    "X_test = norm_df_column(X_test, 'calculatedfinishedsquarefeet')\n",
    "X_test = norm_df_column(X_test, 'taxvaluedollarcnt')\n",
    "X_test = norm_df_column(X_test, 'taxamount')"
   ]
  },
  {
   "cell_type": "code",
   "execution_count": null,
   "metadata": {},
   "outputs": [],
   "source": [
    "### Feature selection using statsmodels.OLS (Ordinary Least Squares)\n",
    "ols_model = sm.OLS(y_train, X_train)\n",
    "fit = ols_model.fit()\n",
    "fit.summary()"
   ]
  },
  {
   "cell_type": "markdown",
   "metadata": {},
   "source": [
    "### Linear Model 1"
   ]
  },
  {
   "cell_type": "code",
   "execution_count": null,
   "metadata": {},
   "outputs": [],
   "source": [
    "# Create linear regression objects\n",
    "lm1 = LinearRegression()\n",
    "print(lm1)"
   ]
  },
  {
   "cell_type": "code",
   "execution_count": null,
   "metadata": {},
   "outputs": [],
   "source": [
    "lm1.fit(X_train, y_train)\n",
    "print(lm1)\n",
    "\n",
    "lm1_y_intercept = lm1.intercept_\n",
    "print(lm1_y_intercept)\n",
    "\n",
    "lm1_coefficients = lm1.coef_\n",
    "print(lm1_coefficients)"
   ]
  },
  {
   "cell_type": "code",
   "execution_count": null,
   "metadata": {},
   "outputs": [],
   "source": [
    "y_pred_lm1 = lm1.predict(X_train)"
   ]
  },
  {
   "cell_type": "code",
   "execution_count": null,
   "metadata": {},
   "outputs": [],
   "source": [
    "mse_lm1 = mean_squared_error(y_train, y_pred_lm1)\n",
    "print(\"lm1\\n  mse: {:.6}\".format(mse_lm1))"
   ]
  },
  {
   "cell_type": "markdown",
   "metadata": {},
   "source": [
    "### Linear Model 2"
   ]
  },
  {
   "cell_type": "code",
   "execution_count": null,
   "metadata": {},
   "outputs": [],
   "source": [
    "lm2 = LinearRegression()\n",
    "print(lm2)"
   ]
  },
  {
   "cell_type": "code",
   "execution_count": null,
   "metadata": {},
   "outputs": [],
   "source": [
    "lm2.fit(X_train.drop(['taxamount'], axis=1), y_train)\n",
    "print(lm2)"
   ]
  },
  {
   "cell_type": "code",
   "execution_count": null,
   "metadata": {},
   "outputs": [],
   "source": [
    "lm2_y_intercept = lm2.intercept_\n",
    "print(lm2_y_intercept)\n",
    "\n",
    "lm2_coefficients = lm2.coef_\n",
    "print(lm2_coefficients)"
   ]
  },
  {
   "cell_type": "code",
   "execution_count": null,
   "metadata": {},
   "outputs": [],
   "source": [
    "y_pred_lm2 = lm2.predict(X_train.drop(['taxamount'],axis=1))"
   ]
  },
  {
   "cell_type": "code",
   "execution_count": null,
   "metadata": {},
   "outputs": [],
   "source": [
    "mse_lm2 = mean_squared_error(y_train, y_pred_lm2)\n",
    "print(\"lm1\\n  mse: {:.6}\".format(mse_lm2))"
   ]
  },
  {
   "cell_type": "markdown",
   "metadata": {},
   "source": [
    "### Linear Model 3"
   ]
  },
  {
   "cell_type": "code",
   "execution_count": null,
   "metadata": {},
   "outputs": [],
   "source": [
    "lm3 = LinearRegression()\n",
    "print(lm3)"
   ]
  },
  {
   "cell_type": "code",
   "execution_count": null,
   "metadata": {},
   "outputs": [],
   "source": [
    "lm3.fit(X_train.drop(['taxamount','bathroomcnt'],axis=1), y_train)\n",
    "print(lm3)"
   ]
  },
  {
   "cell_type": "code",
   "execution_count": null,
   "metadata": {},
   "outputs": [],
   "source": [
    "lm3_y_intercept = lm3.intercept_\n",
    "print(lm3_y_intercept)\n",
    "\n",
    "lm3_coefficients = lm3.coef_\n",
    "print(lm3_coefficients)"
   ]
  },
  {
   "cell_type": "code",
   "execution_count": null,
   "metadata": {},
   "outputs": [],
   "source": [
    "y_pred_lm3 = lm3.predict(X_train.drop(['taxamount','bathroomcnt'],axis=1))"
   ]
  },
  {
   "cell_type": "code",
   "execution_count": null,
   "metadata": {},
   "outputs": [],
   "source": [
    "mse_lm3 = mean_squared_error(y_train, y_pred_lm3)\n",
    "print(\"lm1\\n  mse: {:.6}\".format(mse_lm3))"
   ]
  },
  {
   "cell_type": "code",
   "execution_count": null,
   "metadata": {},
   "outputs": [],
   "source": [
    "# the predictions are a 1 x 83 two dimensional matrix, but we want just\n",
    "# a single array of predictions. We can use the .ravel method to achieve\n",
    "# this.\n",
    "\n",
    "pd.DataFrame({'actual': y_train.logerror,\n",
    "              'lm1': y_pred_lm1.ravel(),\n",
    "              'lm2': y_pred_lm2.ravel(),\n",
    "              'lm3': y_pred_lm3.ravel()})\\\n",
    "    .melt(id_vars=['actual'], var_name='model', value_name='prediction')\\\n",
    "    .pipe((sns.relplot, 'data'), x='actual', y='prediction', hue='model')\n",
    "\n",
    "plt.title('Predicted vs Logerror')"
   ]
  },
  {
   "cell_type": "code",
   "execution_count": null,
   "metadata": {},
   "outputs": [],
   "source": [
    "mean_squared_error(y_train, y_pred_lm1) < mean_squared_error(y_train, y_pred_lm2)"
   ]
  },
  {
   "cell_type": "code",
   "execution_count": null,
   "metadata": {},
   "outputs": [],
   "source": [
    "mean_squared_error(y_train, y_pred_lm1) < mean_squared_error(y_train, y_pred_lm3)"
   ]
  },
  {
   "cell_type": "markdown",
   "metadata": {},
   "source": [
    "### Predict logerror using testing data"
   ]
  },
  {
   "cell_type": "code",
   "execution_count": null,
   "metadata": {},
   "outputs": [],
   "source": [
    "# Make predictions using the testing set\n",
    "y_pred_lm1 = lm1.predict(X_test)"
   ]
  },
  {
   "cell_type": "code",
   "execution_count": null,
   "metadata": {},
   "outputs": [],
   "source": [
    "mse = mean_squared_error(y_test, y_pred_lm1)\n",
    "print(\"Mean squared error: %.2f\" % mse)"
   ]
  },
  {
   "cell_type": "code",
   "execution_count": null,
   "metadata": {},
   "outputs": [],
   "source": [
    "r2 = r2_score(y_test, y_pred_lm1)\n",
    "print('{:.2%} of the variance in the zestyimates logerror can be explained by calculatedfinishedsquarefeet.'\n",
    "      .format(r2))"
   ]
  },
  {
   "cell_type": "code",
   "execution_count": null,
   "metadata": {},
   "outputs": [],
   "source": [
    "plt.scatter(y_pred_lm1, y_pred_lm1 - y_test, c='g', s=40)\n",
    "plt.hlines(y=0, xmin=-.001, xmax=.001)\n",
    "plt.title(\"Residual plot\")\n",
    "plt.ylabel('Residuals')"
   ]
  },
  {
   "cell_type": "code",
   "execution_count": null,
   "metadata": {},
   "outputs": [],
   "source": []
  }
 ],
 "metadata": {
  "kernelspec": {
   "display_name": "Python 3",
   "language": "python",
   "name": "python3"
  },
  "language_info": {
   "codemirror_mode": {
    "name": "ipython",
    "version": 3
   },
   "file_extension": ".py",
   "mimetype": "text/x-python",
   "name": "python",
   "nbconvert_exporter": "python",
   "pygments_lexer": "ipython3",
   "version": "3.7.1"
  }
 },
 "nbformat": 4,
 "nbformat_minor": 2
}
